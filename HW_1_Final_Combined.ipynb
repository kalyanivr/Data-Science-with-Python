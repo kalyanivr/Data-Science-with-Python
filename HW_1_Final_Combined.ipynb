{
 "cells": [
  {
   "cell_type": "code",
   "execution_count": 1,
   "metadata": {},
   "outputs": [
    {
     "name": "stdout",
     "output_type": "stream",
     "text": [
      "/Users/kalyani/Documents/Study/Python/Sentiment_Analysis\n"
     ]
    }
   ],
   "source": [
    "cd /Users/kalyani/Documents/Study/Python/Sentiment_Analysis"
   ]
  },
  {
   "cell_type": "code",
   "execution_count": 2,
   "metadata": {},
   "outputs": [],
   "source": [
    "import re\n",
    "import string"
   ]
  },
  {
   "cell_type": "code",
   "execution_count": 3,
   "metadata": {},
   "outputs": [],
   "source": [
    "file_trump = open('Trump.txt', 'r')  # open file containing trump tweets\n",
    "file_brexit = open('Brexit.txt', 'r') # open file containing brexit tweets\n"
   ]
  },
  {
   "cell_type": "code",
   "execution_count": 4,
   "metadata": {},
   "outputs": [],
   "source": [
    "file_read_t = file_trump.read().lower() \n",
    "file_read_b = file_brexit.read().lower()"
   ]
  },
  {
   "cell_type": "code",
   "execution_count": 5,
   "metadata": {},
   "outputs": [],
   "source": [
    "stop = open('stopwords.txt', encoding = \"UTF-8\")"
   ]
  },
  {
   "cell_type": "code",
   "execution_count": 6,
   "metadata": {},
   "outputs": [
    {
     "data": {
      "text/plain": [
       "0"
      ]
     },
     "execution_count": 6,
     "metadata": {},
     "output_type": "execute_result"
    }
   ],
   "source": [
    "stop.seek(0)"
   ]
  },
  {
   "cell_type": "code",
   "execution_count": 7,
   "metadata": {},
   "outputs": [],
   "source": [
    "file_stop = stop.read().split()"
   ]
  },
  {
   "cell_type": "code",
   "execution_count": 8,
   "metadata": {
    "scrolled": false
   },
   "outputs": [],
   "source": [
    "#file_read"
   ]
  },
  {
   "cell_type": "markdown",
   "metadata": {},
   "source": [
    "# Data Cleaning"
   ]
  },
  {
   "cell_type": "code",
   "execution_count": 9,
   "metadata": {},
   "outputs": [],
   "source": [
    "# clean file containing trump tweets\n",
    "file_read_t = re.sub('\\\\\\\\x[A-Za-z0-9./]*','',file_read_t)\n",
    "file_read_t = re.sub(\"https:[A-Za-z0-9./]+\",'',file_read_t)\n",
    "file_read_t = re.sub(\"@[A-Za-z0-9./]+\",'',file_read_t)\n",
    "file_read_t = re.sub('\\\\\\\\n',' ',file_read_t)\n",
    "file_read_t = re.sub(\"[-#!$%^&*/?,)\\\\\\\\(.<>_:;\\'\\\"]+\",' ',file_read_t)\n",
    "file_read_t = re.sub('b rt','',file_read_t)\n",
    "file_read_t = re.sub(\"[0-9]\",'',file_read_t)\n",
    "\n",
    "# clean file containing brexit tweets\n",
    "file_read_b = re.sub('\\\\\\\\x[A-Za-z0-9./]*','',file_read_b)\n",
    "file_read_b = re.sub(\"https:[A-Za-z0-9./]+\",'',file_read_b)\n",
    "file_read_b = re.sub(\"@[A-Za-z0-9./]+\",'',file_read_b)\n",
    "file_read_b = re.sub('\\\\\\\\n',' ',file_read_b)\n",
    "file_read_b = re.sub(\"[-#!$%^&*/?,)\\\\\\\\(.<|>_:;\\'\\\"]+\",' ',file_read_b)\n",
    "file_read_b = re.sub('b rt','',file_read_b)\n",
    "file_read_b = re.sub(\"[0-9]\",'',file_read_b)"
   ]
  },
  {
   "cell_type": "code",
   "execution_count": 10,
   "metadata": {},
   "outputs": [],
   "source": [
    "#file_read"
   ]
  },
  {
   "cell_type": "code",
   "execution_count": 11,
   "metadata": {},
   "outputs": [],
   "source": [
    "file_words_t = file_read_t.split()\n",
    "file_words_b = file_read_b.split()\n"
   ]
  },
  {
   "cell_type": "code",
   "execution_count": 12,
   "metadata": {},
   "outputs": [],
   "source": [
    "#file_words"
   ]
  },
  {
   "cell_type": "code",
   "execution_count": 13,
   "metadata": {},
   "outputs": [],
   "source": [
    "read_t = []\n",
    "for words_t in file_words_t:\n",
    "    if words_t == '':\n",
    "        continue\n",
    "    if len(words_t) == 1:\n",
    "        continue\n",
    "    #if words in file_stop:\n",
    "     #   continue\n",
    "    read_t.append(words_t)\n",
    "    \n",
    "    \n",
    "read_b = []\n",
    "for words_b in file_words_b:\n",
    "    if words_b == '':\n",
    "        continue\n",
    "    if len(words_b) == 1:\n",
    "        continue\n",
    "    read_b.append(words_b)"
   ]
  },
  {
   "cell_type": "code",
   "execution_count": 14,
   "metadata": {},
   "outputs": [],
   "source": [
    "#read"
   ]
  },
  {
   "cell_type": "code",
   "execution_count": 15,
   "metadata": {},
   "outputs": [],
   "source": [
    "pos = open('positive.txt','r')"
   ]
  },
  {
   "cell_type": "code",
   "execution_count": 16,
   "metadata": {},
   "outputs": [
    {
     "data": {
      "text/plain": [
       "0"
      ]
     },
     "execution_count": 16,
     "metadata": {},
     "output_type": "execute_result"
    }
   ],
   "source": [
    "pos.seek(0)"
   ]
  },
  {
   "cell_type": "code",
   "execution_count": 17,
   "metadata": {},
   "outputs": [],
   "source": [
    "file_pos= pos.read().split()"
   ]
  },
  {
   "cell_type": "code",
   "execution_count": 18,
   "metadata": {},
   "outputs": [],
   "source": [
    "neg = open('negative.txt', encoding = \"ISO-8859-1\")"
   ]
  },
  {
   "cell_type": "code",
   "execution_count": 19,
   "metadata": {},
   "outputs": [
    {
     "data": {
      "text/plain": [
       "0"
      ]
     },
     "execution_count": 19,
     "metadata": {},
     "output_type": "execute_result"
    }
   ],
   "source": [
    "neg.seek(0)"
   ]
  },
  {
   "cell_type": "code",
   "execution_count": 20,
   "metadata": {},
   "outputs": [],
   "source": [
    "file_neg= neg.read().split()"
   ]
  },
  {
   "cell_type": "markdown",
   "metadata": {},
   "source": [
    "# Analyze Sentiments"
   ]
  },
  {
   "cell_type": "code",
   "execution_count": 21,
   "metadata": {},
   "outputs": [
    {
     "name": "stdout",
     "output_type": "stream",
     "text": [
      "Trump:\n",
      "Positive Count: 7935\n",
      "Negative Count: -14332\n",
      "Stop words Count:142381\n",
      "-------------------------------------------------------------------------------------------------------\n",
      "\n",
      "Brexit:\n",
      "Positive Count: 852\n",
      "Negative Count: -1442\n",
      "Stop words Count:15401\n"
     ]
    }
   ],
   "source": [
    "# Analysis for Trump keyword\n",
    "\n",
    "positive_t = 0\n",
    "negative_t = 0\n",
    "stop_t = 0\n",
    "for words_t in read_t:\n",
    "    if words_t in file_pos:\n",
    "        positive_t += 1\n",
    "    elif words_t in file_neg:\n",
    "        negative_t -= 1\n",
    "    elif words_t in file_stop:\n",
    "        stop_t += 1\n",
    "\n",
    "print(\"Trump:\")        \n",
    "print (\"Positive Count: \"+str(positive_t))\n",
    "print (\"Negative Count: \"+str(negative_t))\n",
    "print (\"Stop words Count:\"+str(stop_t))\n",
    "print(\"-------------------------------------------------------------------------------------------------------\")\n",
    "\n",
    "# Analysis for Brexit keyword\n",
    "\n",
    "positive_b = 0\n",
    "negative_b = 0\n",
    "stop_b = 0\n",
    "for words_b in read_b:\n",
    "    if words_b in file_pos:\n",
    "        positive_b += 1\n",
    "    elif words_b in file_neg:\n",
    "        negative_b -= 1\n",
    "    elif words_b in file_stop:\n",
    "        stop_b += 1\n",
    "\n",
    "print(\"\\nBrexit:\")        \n",
    "print (\"Positive Count: \"+str(positive_b))\n",
    "print (\"Negative Count: \"+str(negative_b))\n",
    "print (\"Stop words Count:\"+str(stop_b))"
   ]
  },
  {
   "cell_type": "code",
   "execution_count": 22,
   "metadata": {},
   "outputs": [
    {
     "name": "stdout",
     "output_type": "stream",
     "text": [
      "Trump:\n",
      "Total Word Count: 293884\n",
      "Other Word Count: 129236\n",
      "-------------------------------------------------------------------------------------------------------\n",
      "\n",
      "Brexit:\n",
      "Total Word Count: 31010\n",
      "Other Word Count: 13315\n"
     ]
    }
   ],
   "source": [
    "total_words_t = len(read_t)\n",
    "other_words_t = total_words_t - (positive_t-negative_t+stop_t)\n",
    "print(\"Trump:\") \n",
    "print (\"Total Word Count: \"+str(total_words_t))\n",
    "print(\"Other Word Count: \"+str(other_words_t))\n",
    "print(\"-------------------------------------------------------------------------------------------------------\")\n",
    "\n",
    "total_words_b = len(read_b)\n",
    "other_words_b = total_words_b - (positive_b-negative_b+stop_b)\n",
    "print(\"\\nBrexit:\") \n",
    "print (\"Total Word Count: \"+str(total_words_b))\n",
    "print(\"Other Word Count: \"+str(other_words_b))"
   ]
  },
  {
   "cell_type": "code",
   "execution_count": 23,
   "metadata": {},
   "outputs": [
    {
     "name": "stdout",
     "output_type": "stream",
     "text": [
      "Trump:\n",
      "Positive Ratio: 0.02700044915681017\n",
      "Negative Ratio: 0.048767540934518384\n",
      "Stop Ratio: 0.48448027112738357\n",
      "Other Ratio: 0.43975173878128787\n",
      "-------------------------------------------------------------------------------------------------------\n",
      "\n",
      "Brexit:\n",
      "Positive Ratio: 0.02747500806191551\n",
      "Negative Ratio: 0.046501128668171555\n",
      "Stop Ratio: 0.4966462431473718\n",
      "Other Ratio: 0.4293776201225411\n"
     ]
    }
   ],
   "source": [
    "positive_ratio_t = (positive_t/total_words_t)\n",
    "negative_ratio_t = (negative_t*-1/total_words_t)\n",
    "stop_ratio_t = (stop_t/total_words_t)\n",
    "other_ratio_t = (other_words_t/total_words_t)\n",
    "print(\"Trump:\") \n",
    "print (\"Positive Ratio: \"+str(positive_ratio_t))\n",
    "print (\"Negative Ratio: \"+str(negative_ratio_t))\n",
    "print (\"Stop Ratio: \"+str(stop_ratio_t))\n",
    "print (\"Other Ratio: \"+str(other_ratio_t))\n",
    "print(\"-------------------------------------------------------------------------------------------------------\")\n",
    "\n",
    "positive_ratio_b = (positive_b/total_words_b)\n",
    "negative_ratio_b = (negative_b*-1/total_words_b)\n",
    "stop_ratio_b = (stop_b/total_words_b)\n",
    "other_ratio_b = (other_words_b/total_words_b)\n",
    "print(\"\\nBrexit:\") \n",
    "print (\"Positive Ratio: \"+str(positive_ratio_b))\n",
    "print (\"Negative Ratio: \"+str(negative_ratio_b))\n",
    "print (\"Stop Ratio: \"+str(stop_ratio_b))\n",
    "print (\"Other Ratio: \"+str(other_ratio_b))"
   ]
  },
  {
   "cell_type": "code",
   "execution_count": 24,
   "metadata": {},
   "outputs": [
    {
     "name": "stdout",
     "output_type": "stream",
     "text": [
      "Trump:\n",
      "The sentiment is Negative\n",
      "Strongly\n",
      "-------------------------------------------------------------------------------------------------------\n",
      "\n",
      "Brexit:\n",
      "The sentiment is Negative\n",
      "Strongly\n"
     ]
    }
   ],
   "source": [
    "print(\"Trump:\")\n",
    "\n",
    "if positive_ratio_t > negative_ratio_t:\n",
    "    print(\"The sentiment is Positive\")\n",
    "    if positive_t/(positive_t-negative_t) > 0.5:\n",
    "        print(\"Strongly\")\n",
    "    elif positive_t/(positive_t-negative_t) < 0.5:\n",
    "        print(\"Weakly\")\n",
    "    else:\n",
    "        print(\"Neutral\")\n",
    "elif positive_ratio_t < negative_ratio_t:\n",
    "    print(\"The sentiment is Negative\")\n",
    "    if -negative_t/(positive_t-negative_t) > 0.5:\n",
    "        print(\"Strongly\")\n",
    "    elif -negative_t/(positive_t-negative_t) < 0.5:\n",
    "        print(\"Weakly\")\n",
    "    else:\n",
    "        print(\"Neutral\")\n",
    "else:\n",
    "    print(\"The sentiment is Neutral\")\n",
    "\n",
    "print(\"-------------------------------------------------------------------------------------------------------\")\n",
    "\n",
    "    \n",
    "    \n",
    "print(\"\\nBrexit:\")   \n",
    "if positive_ratio_b > negative_ratio_b:\n",
    "    print(\"The sentiment is Positive\")\n",
    "    if positive_b/(positive_b-negative_b) > 0.5:\n",
    "        print(\"Strongly\")\n",
    "    elif positive_b/(positive_b-negative_b) < 0.5:\n",
    "        print(\"Weakly\")\n",
    "    else:\n",
    "        print(\"Neutral\")\n",
    "elif positive_ratio_b < negative_ratio_b:\n",
    "    print(\"The sentiment is Negative\")\n",
    "    if -negative_b/(positive_b-negative_b) > 0.5:\n",
    "        print(\"Strongly\")\n",
    "    elif -negative_b/(positive_b-negative_b) < 0.5:\n",
    "        print(\"Weakly\")\n",
    "    else:\n",
    "        print(\"Neutral\")\n",
    "else:\n",
    "    print(\"The sentiment is Neutral\")"
   ]
  },
  {
   "cell_type": "code",
   "execution_count": 25,
   "metadata": {},
   "outputs": [],
   "source": [
    "#positive/(positive-negative)   # Subtraction because negative is in negative value(-) and since we need addition \n",
    "                               # we subtract it"
   ]
  },
  {
   "cell_type": "code",
   "execution_count": 26,
   "metadata": {},
   "outputs": [],
   "source": [
    "#-negative/(positive-negative)"
   ]
  },
  {
   "cell_type": "markdown",
   "metadata": {},
   "source": [
    "# Visualization"
   ]
  },
  {
   "cell_type": "code",
   "execution_count": 27,
   "metadata": {},
   "outputs": [
    {
     "data": {
      "text/plain": [
       "<Figure size 640x480 with 1 Axes>"
      ]
     },
     "metadata": {},
     "output_type": "display_data"
    }
   ],
   "source": [
    "import matplotlib.pyplot as plt_t\n",
    "\n",
    "slices = [positive_ratio_t,negative_ratio_t,stop_ratio_t,other_ratio_t]\n",
    "labels = ['Positive','Negative','Stop','Other']\n",
    "colors = ['g','r','y','b']\n",
    "\n",
    "\n",
    "plt_t.pie(slices,labels=labels,colors=colors,startangle = 0, autopct = \"%1.1f%%\")\n",
    "plt_t.axis('equal')\n",
    "plt_t.title(\"Trump\",bbox={'facecolor':'0.8','pad':5})\n",
    "plt_t.show()"
   ]
  },
  {
   "cell_type": "code",
   "execution_count": 29,
   "metadata": {},
   "outputs": [
    {
     "data": {
      "image/png": "[encoded data removed]",
      "text/plain": [
       "<Figure size 432x288 with 1 Axes>"
      ]
     },
     "metadata": {},
     "output_type": "display_data"
    }
   ],
   "source": [
    "import matplotlib.pyplot as plt_b\n",
    "\n",
    "slices = [positive_ratio_b,negative_ratio_b,stop_ratio_b,other_ratio_b]\n",
    "labels = ['Positive','Negative','Stop','Other']\n",
    "colors = ['g','r','y','b']\n",
    "\n",
    "plt_b.pie(slices,labels=labels,colors=colors,startangle = 0, autopct = \"%1.1f%%\")\n",
    "plt_b.axis('equal')\n",
    "plt_b.title(\"Brexit\",bbox={'facecolor':'0.8','pad':5})\n",
    "plt_b.show()"
   ]
  },
  {
   "cell_type": "code",
   "execution_count": null,
   "metadata": {},
   "outputs": [],
   "source": []
  }
 ],
 "metadata": {
  "kernelspec": {
   "display_name": "Python 3",
   "language": "python",
   "name": "python3"
  },
  "language_info": {
   "codemirror_mode": {
    "name": "ipython",
    "version": 3
   },
   "file_extension": ".py",
   "mimetype": "text/x-python",
   "name": "python",
   "nbconvert_exporter": "python",
   "pygments_lexer": "ipython3",
   "version": "3.7.3"
  }
 },
 "nbformat": 4,
 "nbformat_minor": 2
}
